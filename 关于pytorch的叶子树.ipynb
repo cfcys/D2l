{
 "cells": [
  {
   "cell_type": "code",
   "execution_count": 1,
   "id": "eb6d37c3",
   "metadata": {},
   "outputs": [],
   "source": [
    "import torch"
   ]
  },
  {
   "cell_type": "code",
   "execution_count": 3,
   "id": "c7bbc896",
   "metadata": {},
   "outputs": [
    {
     "name": "stdout",
     "output_type": "stream",
     "text": [
      "tensor([2.], requires_grad=True)\n",
      "tensor([4.], grad_fn=<PowBackward0>)\n",
      "tensor([16.], grad_fn=<PowBackward0>)\n",
      "a.grad: tensor([32.])\n",
      "b.grad: None\n"
     ]
    },
    {
     "name": "stderr",
     "output_type": "stream",
     "text": [
      "D:\\AILearing\\App-Setted\\envs\\pytorch\\lib\\site-packages\\torch\\_tensor.py:1083: UserWarning: The .grad attribute of a Tensor that is not a leaf Tensor is being accessed. Its .grad attribute won't be populated during autograd.backward(). If you indeed want the .grad field to be populated for a non-leaf Tensor, use .retain_grad() on the non-leaf Tensor. If you access the non-leaf Tensor by mistake, make sure you access the leaf Tensor instead. See github.com/pytorch/pytorch/pull/30531 for more informations. (Triggered internally at  C:\\cb\\pytorch_1000000000000\\work\\build\\aten\\src\\ATen/core/TensorBody.h:482.)\n",
      "  return self._grad\n"
     ]
    }
   ],
   "source": [
    "a = torch.tensor([2],dtype=torch.float,requires_grad = True)   # a是叶子结点\n",
    "b = a ** 2  # 而b是一个中间结点  pytorch只会保存叶子结点的计算图，而不会保存非叶子结点的\n",
    "c = b ** 2\n",
    "\n",
    "c.backward()      #调用backward就相当于求导\n",
    "\n",
    "print(a)\n",
    "print(b)\n",
    "print(c)\n",
    "\n",
    "print(\"a.grad:\",a.grad)    # (2 * b) * (2 * a)     其实就是求导的过程\n",
    "print(\"b.grad:\",b.grad)"
   ]
  },
  {
   "cell_type": "markdown",
   "id": "e47419d9",
   "metadata": {},
   "source": [
    "关于为什么要梯度清零？"
   ]
  },
  {
   "cell_type": "code",
   "execution_count": 6,
   "id": "3d3484ad",
   "metadata": {},
   "outputs": [
    {
     "name": "stdout",
     "output_type": "stream",
     "text": [
      "a.grad: tensor([4.])\n",
      "__________________\n",
      "a.grad: tensor([8.])\n",
      "__________________\n",
      "a.grad: tensor([12.])\n",
      "__________________\n",
      "a.grad: tensor([16.])\n",
      "__________________\n"
     ]
    }
   ],
   "source": [
    "a = torch.tensor([2],dtype = torch.float,requires_grad = True)\n",
    "for i in range(4):\n",
    "    b = a ** 2\n",
    "    b.backward()\n",
    "    print(\"a.grad:\",a.grad)\n",
    "    print(\"__________________\")"
   ]
  },
  {
   "cell_type": "code",
   "execution_count": null,
   "id": "2ed07745",
   "metadata": {},
   "outputs": [],
   "source": [
    "\n"
   ]
  }
 ],
 "metadata": {
  "kernelspec": {
   "display_name": "Python [conda env:pytorch] *",
   "language": "python",
   "name": "conda-env-pytorch-py"
  },
  "language_info": {
   "codemirror_mode": {
    "name": "ipython",
    "version": 3
   },
   "file_extension": ".py",
   "mimetype": "text/x-python",
   "name": "python",
   "nbconvert_exporter": "python",
   "pygments_lexer": "ipython3",
   "version": "3.9.12"
  }
 },
 "nbformat": 4,
 "nbformat_minor": 5
}
