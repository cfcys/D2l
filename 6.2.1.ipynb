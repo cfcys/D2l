{
 "cells": [
  {
   "cell_type": "code",
   "execution_count": 3,
   "metadata": {},
   "outputs": [],
   "source": [
    "import torch\n",
    "from torch import nn\n",
    "from d2l import torch as d2l   #这个是什么意思  ，为什么是小写的d2l"
   ]
  },
  {
   "cell_type": "code",
   "execution_count": 5,
   "metadata": {},
   "outputs": [],
   "source": [
    "def corr2d(X,K):    #接受输入张量X和卷积核张量Y\n",
    "    \"\"\"\"二维的互相关运算\"\"\"\n",
    "    h,w = K.shape    #shape[0]是第一维度的数量？\n",
    "    Y = torch.zeros((X.shape[0] - h + 1,X.shape[1] - w + 1))   #Y用来\n",
    "    for i in range(Y.shape[0]):\n",
    "        for j in range(Y.shape[1]):\n",
    "            Y[i,j] = (X[i:i+h,j:j+w]*K).sum()\n",
    "    return Y"
   ]
  },
  {
   "cell_type": "code",
   "execution_count": 6,
   "metadata": {},
   "outputs": [
    {
     "data": {
      "text/plain": [
       "tensor([[19., 25.],\n",
       "        [37., 43.]])"
      ]
     },
     "execution_count": 6,
     "metadata": {},
     "output_type": "execute_result"
    }
   ],
   "source": [
    "X = torch.tensor([[0.0,1.0,2.0],[3.0,4.0,5.0],[6.0,7.0,8.0]])\n",
    "K = torch.tensor([[0.0,1.0],[2.0,3.0]])\n",
    "corr2d(X,K)"
   ]
  },
  {
   "cell_type": "markdown",
   "metadata": {},
   "source": [
    "卷积层对输入和卷积核进行互相关运算，并在添加标量偏置之后产生输出。\n",
    "卷积层中的两个被训练的参数是卷积核和标量偏置。"
   ]
  },
  {
   "cell_type": "code",
   "execution_count": null,
   "metadata": {},
   "outputs": [],
   "source": [
    "class Conv2D(nn.Module):    # 一个二维的卷积层的类\n",
    "    def __init__(self,Kernel_size):\n",
    "        super().__init__()\n",
    "        self.weight = nn.parameter(torch.rand(Kernel_size))\n",
    "        self.bias = nn.parameter(torch.zeros(1))\n",
    "    def forward(self,x):\n",
    "        return corr2d(x,self.weight) + self.bias    "
   ]
  }
 ],
 "metadata": {
  "kernelspec": {
   "display_name": "Python 3.9.12 ('pytorch')",
   "language": "python",
   "name": "python3"
  },
  "language_info": {
   "codemirror_mode": {
    "name": "ipython",
    "version": 3
   },
   "file_extension": ".py",
   "mimetype": "text/x-python",
   "name": "python",
   "nbconvert_exporter": "python",
   "pygments_lexer": "ipython3",
   "version": "3.9.12"
  },
  "orig_nbformat": 4,
  "vscode": {
   "interpreter": {
    "hash": "994f0f0599cf23b3134abac8ebd4ac96777d6d22e8a9b9a81345eeeef54f8468"
   }
  }
 },
 "nbformat": 4,
 "nbformat_minor": 2
}
