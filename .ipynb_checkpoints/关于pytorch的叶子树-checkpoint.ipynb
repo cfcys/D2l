{
 "cells": [
  {
   "cell_type": "code",
   "execution_count": 1,
   "id": "48450375",
   "metadata": {},
   "outputs": [],
   "source": [
    "import torch"
   ]
  },
  {
   "cell_type": "code",
   "execution_count": 3,
   "id": "c5529daf",
   "metadata": {},
   "outputs": [
    {
     "name": "stdout",
     "output_type": "stream",
     "text": [
      "tensor([2.], requires_grad=True)\n",
      "tensor([4.], grad_fn=<PowBackward0>)\n",
      "tensor([16.], grad_fn=<PowBackward0>)\n",
      "a.grad: tensor([32.])\n",
      "b.grad: None\n"
     ]
    },
    {
     "name": "stderr",
     "output_type": "stream",
     "text": [
      "D:\\AILearing\\App-Setted\\envs\\pytorch\\lib\\site-packages\\torch\\_tensor.py:1083: UserWarning: The .grad attribute of a Tensor that is not a leaf Tensor is being accessed. Its .grad attribute won't be populated during autograd.backward(). If you indeed want the .grad field to be populated for a non-leaf Tensor, use .retain_grad() on the non-leaf Tensor. If you access the non-leaf Tensor by mistake, make sure you access the leaf Tensor instead. See github.com/pytorch/pytorch/pull/30531 for more informations. (Triggered internally at  C:\\cb\\pytorch_1000000000000\\work\\build\\aten\\src\\ATen/core/TensorBody.h:482.)\n",
      "  return self._grad\n"
     ]
    }
   ],
   "source": [
    "a = torch.tensor([2],dtype=torch.float,requires_grad = True)\n",
    "b = a ** 2\n",
    "c = b ** 2\n",
    "\n",
    "c.backward()      #调用backward就相当于求导\n",
    "print(a)\n",
    "print(b)\n",
    "print(c)\n",
    "\n",
    "print(\"a.grad:\",a.grad)    # (2 * b) * (2 * a)     其实就是求导的过程\n",
    "print(\"b.grad:\",b.grad)"
   ]
  },
  {
   "cell_type": "code",
   "execution_count": null,
   "id": "ed002080",
   "metadata": {},
   "outputs": [],
   "source": []
  }
 ],
 "metadata": {
  "kernelspec": {
   "display_name": "Python [conda env:pytorch] *",
   "language": "python",
   "name": "conda-env-pytorch-py"
  },
  "language_info": {
   "codemirror_mode": {
    "name": "ipython",
    "version": 3
   },
   "file_extension": ".py",
   "mimetype": "text/x-python",
   "name": "python",
   "nbconvert_exporter": "python",
   "pygments_lexer": "ipython3",
   "version": "3.9.12"
  }
 },
 "nbformat": 4,
 "nbformat_minor": 5
}
